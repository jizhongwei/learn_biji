{
 "nbformat": 4,
 "nbformat_minor": 2,
 "metadata": {
  "language_info": {
   "name": "python",
   "codemirror_mode": {
    "name": "ipython",
    "version": 3
   }
  },
  "orig_nbformat": 2,
  "file_extension": ".py",
  "mimetype": "text/x-python",
  "name": "python",
  "npconvert_exporter": "python",
  "pygments_lexer": "ipython3",
  "version": 3
 },
 "cells": [
  {
   "cell_type": "code",
   "execution_count": 19,
   "metadata": {},
   "outputs": [
    {
     "name": "stdout",
     "output_type": "stream",
     "text": "Done!\n"
    }
   ],
   "source": [
    "import requests\n",
    "from lxml import etree\n",
    "import zhconv\n",
    "\n",
    "fd = open(\"all2.txt\", \"r\", encoding= 'utf-8')\n",
    "content_list = fd.read().split('\\t')\n",
    "\n",
    "def jian2fan(content):\n",
    "    with open(\"jian2fan.txt\", 'w', encoding= 'utf-8') as fd:\n",
    "        for i in content:\n",
    "            result = zhconv.convert(i, 'zh-tw')\n",
    "            fd.write(i + ' ---> ' + result + '\\n\\n')\n",
    "    print(\"Done!\")\n",
    "jian2fan(content_list)"
   ]
  },
  {
   "cell_type": "code",
   "execution_count": 15,
   "metadata": {},
   "outputs": [
    {
     "name": "stdout",
     "output_type": "stream",
     "text": "漢\n"
    }
   ],
   "source": [
    "import zhconv\n",
    "\n",
    "result = zhconv.convert(\"汉\",'zh-tw')\n",
    "print(result)"
   ]
  },
  {
   "cell_type": "code",
   "execution_count": null,
   "metadata": {},
   "outputs": [],
   "source": []
  }
 ]
}